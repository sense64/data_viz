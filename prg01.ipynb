{
  "nbformat": 4,
  "nbformat_minor": 0,
  "metadata": {
    "colab": {
      "provenance": [],
      "authorship_tag": "ABX9TyOMKr2UaRTNSZEVWG/9ZTmz",
      "include_colab_link": true
    },
    "kernelspec": {
      "name": "python3",
      "display_name": "Python 3"
    },
    "language_info": {
      "name": "python"
    }
  },
  "cells": [
    {
      "cell_type": "markdown",
      "metadata": {
        "id": "view-in-github",
        "colab_type": "text"
      },
      "source": [
        "<a href=\"https://colab.research.google.com/github/sense64/data_viz/blob/main/prg01.ipynb\" target=\"_parent\"><img src=\"https://colab.research.google.com/assets/colab-badge.svg\" alt=\"Open In Colab\"/></a>"
      ]
    },
    {
      "cell_type": "code",
      "execution_count": 1,
      "metadata": {
        "colab": {
          "base_uri": "https://localhost:8080/"
        },
        "id": "plhFts1iCXiC",
        "outputId": "d2bfe2f3-68e2-46e7-fea3-ce090b52d310"
      },
      "outputs": [
        {
          "output_type": "stream",
          "name": "stdout",
          "text": [
            "Hello World\n",
            "저는 홍길동입니다\n"
          ]
        }
      ],
      "source": [
        "print(\"Hello World\")\n",
        "print(\"저는 홍길동입니다\")"
      ]
    },
    {
      "cell_type": "markdown",
      "source": [
        "코랩을 이용하여 처음으로 작성하였습니다"
      ],
      "metadata": {
        "id": "8PYnss-8C2vI"
      }
    },
    {
      "cell_type": "code",
      "source": [
        "50+100"
      ],
      "metadata": {
        "colab": {
          "base_uri": "https://localhost:8080/"
        },
        "id": "Cd-Oe1biDGsp",
        "outputId": "a1ca5f78-ac9f-4438-f012-9aa0c112e860"
      },
      "execution_count": 2,
      "outputs": [
        {
          "output_type": "execute_result",
          "data": {
            "text/plain": [
              "150"
            ]
          },
          "metadata": {},
          "execution_count": 2
        }
      ]
    }
  ]
}