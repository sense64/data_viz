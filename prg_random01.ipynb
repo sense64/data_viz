{
  "nbformat": 4,
  "nbformat_minor": 0,
  "metadata": {
    "colab": {
      "provenance": [],
      "authorship_tag": "ABX9TyN0oCQgWiueBHL7NTK6MDbU",
      "include_colab_link": true
    },
    "kernelspec": {
      "name": "python3",
      "display_name": "Python 3"
    },
    "language_info": {
      "name": "python"
    }
  },
  "cells": [
    {
      "cell_type": "markdown",
      "metadata": {
        "id": "view-in-github",
        "colab_type": "text"
      },
      "source": [
        "<a href=\"https://colab.research.google.com/github/sense64/data_viz/blob/main/prg_random01.ipynb\" target=\"_parent\"><img src=\"https://colab.research.google.com/assets/colab-badge.svg\" alt=\"Open In Colab\"/></a>"
      ]
    },
    {
      "cell_type": "code",
      "execution_count": 1,
      "metadata": {
        "colab": {
          "base_uri": "https://localhost:8080/"
        },
        "id": "jZdLt-3Gzow5",
        "outputId": "467039ed-0438-4154-a9f5-5c05286bd3a1"
      },
      "outputs": [
        {
          "output_type": "stream",
          "name": "stdout",
          "text": [
            "a 배열= [0.17341776 0.78141755 0.97989054 0.26963144 0.43340837 0.88881903\n",
            " 0.73807928 0.20840501 0.02749714 0.29743734]\n",
            "\n",
            "b 차원 행렬= [[0.73589392 0.40248276 0.52947058 0.21198859 0.30206966]\n",
            " [0.02352329 0.15807834 0.01229746 0.56658898 0.91589626]]\n"
          ]
        }
      ],
      "source": [
        "import numpy as np\n",
        "\n",
        "a = np.random.rand(10) #10개의 난수가 생성\n",
        "\n",
        "b = np.random.rand(2,5) #2행 3열 행렬의 난수가 생성\n",
        "\n",
        "print('a 배열=' , a)\n",
        "print()\n",
        "print('b 차원 행렬=', b)"
      ]
    },
    {
      "cell_type": "code",
      "source": [
        "#정수형 난수를 발생\n",
        "\n",
        "c = np.random.randint(5, size=10)\n",
        "\n",
        "print(c)\n",
        "\n",
        "d = np.random.randint(10, 100, size=10)\n",
        "\n",
        "print(d)\n",
        "\n",
        "e = np.random.randint(10, 200, size=(2,5)) # 2by5으 행렬의 정수형 난수가 생성\n",
        "\n",
        "print(e)"
      ],
      "metadata": {
        "colab": {
          "base_uri": "https://localhost:8080/"
        },
        "id": "-WQaKk8E2PLW",
        "outputId": "1196d594-031a-409e-cdc1-98b2feedba62"
      },
      "execution_count": 8,
      "outputs": [
        {
          "output_type": "stream",
          "name": "stdout",
          "text": [
            "[2 1 4 3 4 2 1 4 1 1]\n",
            "[92 26 73 95 31 45 66 23 71 35]\n",
            "[[118  57 147 116 157]\n",
            " [ 50 190  42 127 157]]\n"
          ]
        }
      ]
    },
    {
      "cell_type": "code",
      "source": [
        "#표준정규분포에서 난수를 발생"
      ],
      "metadata": {
        "id": "XGbqXo3N42kr"
      },
      "execution_count": null,
      "outputs": []
    },
    {
      "cell_type": "code",
      "source": [
        "n1 = np.random.randn(5)\n",
        "print(n1)\n",
        "\n",
        "n2 = np.random.randn(2,3)\n",
        "print(n2)\n",
        "\n",
        "sigma = 2.0\n",
        "mu = 3.0\n",
        "\n",
        "n3= sigma*np.random.randn(3) + mu\n",
        "print(n3)"
      ],
      "metadata": {
        "colab": {
          "base_uri": "https://localhost:8080/"
        },
        "id": "lq06iGjK49lm",
        "outputId": "e0f125d5-37eb-4242-9a46-ec83bd62e087"
      },
      "execution_count": 11,
      "outputs": [
        {
          "output_type": "stream",
          "name": "stdout",
          "text": [
            "[-1.16650914 -0.08304188  0.86148563 -1.64272858 -0.07804904]\n",
            "[[ 1.19184879 -2.89049631 -0.87870903]\n",
            " [ 0.48385494 -1.00602964  1.04399596]]\n",
            "[4.67400762 4.05436618 0.76961787]\n"
          ]
        }
      ]
    },
    {
      "cell_type": "code",
      "source": [
        "# 정규분포로 분터 샘플링 된 데이터 중 난수 생성\n",
        "\n",
        "n1= np.random.normal(0, 1, size= 3)\n",
        "print(n1)\n",
        "\n",
        "n2 = np.random.normal(2, 2, size= 4)\n",
        "print(n2)\n",
        "\n",
        "n3 = np.random.normal(2.0, 3.0, size= (3, 4))\n",
        "print(n3)"
      ],
      "metadata": {
        "colab": {
          "base_uri": "https://localhost:8080/"
        },
        "id": "ruXNScxn8_K3",
        "outputId": "fe2374fb-3279-4cbc-f634-f73255bca6c3"
      },
      "execution_count": 12,
      "outputs": [
        {
          "output_type": "stream",
          "name": "stdout",
          "text": [
            "[-0.13287315 -1.97499088 -0.88297449]\n",
            "[0.17765674 1.04687392 1.95507881 5.04471722]\n",
            "[[ 5.69694884  3.07369998  1.01569289  1.27834132]\n",
            " [-0.15576719  8.09824191  2.90593026 -2.69169136]\n",
            " [ 2.1641227  -0.13137062 -1.27956507 -1.6754633 ]]\n"
          ]
        }
      ]
    },
    {
      "cell_type": "code",
      "source": [
        "data = [20, 15, 18, 30, 11, 45, 80, 13, 77, 54, 30]\n",
        "\n",
        "a = np.random.choice(data, 4)\n",
        "print(a)"
      ],
      "metadata": {
        "colab": {
          "base_uri": "https://localhost:8080/"
        },
        "id": "hB_TfdWdAXYj",
        "outputId": "5a425f84-1695-4140-8c59-36c91a65642e"
      },
      "execution_count": 14,
      "outputs": [
        {
          "output_type": "stream",
          "name": "stdout",
          "text": [
            "[54 30 54 80]\n"
          ]
        }
      ]
    },
    {
      "cell_type": "code",
      "source": [
        "a = np.random.rand(4)\n",
        "print(\"a=\", a)\n"
      ],
      "metadata": {
        "colab": {
          "base_uri": "https://localhost:8080/"
        },
        "id": "AHtX73vDvJ0F",
        "outputId": "12efa95b-cf33-47d3-ad0b-64aafd817c58"
      },
      "execution_count": 11,
      "outputs": [
        {
          "output_type": "stream",
          "name": "stdout",
          "text": [
            "a= [0.44130922 0.15830987 0.87993703 0.27408646]\n"
          ]
        }
      ]
    },
    {
      "cell_type": "code",
      "source": [
        "np.random.seed(5) #시드값 부여\n",
        "c = np.random.rand(4)\n",
        "print(\"c=\", c)"
      ],
      "metadata": {
        "colab": {
          "base_uri": "https://localhost:8080/"
        },
        "id": "GUKo9bhwvenR",
        "outputId": "ad3c8681-d5c3-4e0c-809b-0e17c848ab8e"
      },
      "execution_count": 13,
      "outputs": [
        {
          "output_type": "stream",
          "name": "stdout",
          "text": [
            "c= [0.22199317 0.87073231 0.20671916 0.91861091]\n"
          ]
        }
      ]
    }
  ]
}